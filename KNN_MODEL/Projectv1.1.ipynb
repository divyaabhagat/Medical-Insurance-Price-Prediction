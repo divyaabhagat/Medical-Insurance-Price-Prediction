{
 "cells": [
  {
   "cell_type": "code",
   "execution_count": 12,
   "id": "37546c76-3cde-4247-a1f7-30a460dde476",
   "metadata": {},
   "outputs": [],
   "source": [
    "import pandas as pd\n",
    "import numpy as np\n",
    "import matplotlib.pyplot as plt\n",
    "import seaborn as sns\n",
    "from sklearn.neighbors import KNeighborsRegressor\n",
    "from sklearn.metrics import r2_score, mean_absolute_error, mean_squared_error\n",
    "from statsmodels.stats.outliers_influence import variance_inflation_factor\n",
    "from sklearn.preprocessing import MinMaxScaler, StandardScaler\n",
    "from sklearn.model_selection import train_test_split, GridSearchCV, RandomizedSearchCV\n",
    "import pickle\n",
    "import json\n",
    "import warnings \n",
    "warnings.filterwarnings('ignore')"
   ]
  },
  {
   "cell_type": "code",
   "execution_count": 66,
   "id": "00a9671f-40e9-4f7f-bd57-66def7cc279a",
   "metadata": {},
   "outputs": [
    {
     "data": {
      "text/html": [
       "<div>\n",
       "<style scoped>\n",
       "    .dataframe tbody tr th:only-of-type {\n",
       "        vertical-align: middle;\n",
       "    }\n",
       "\n",
       "    .dataframe tbody tr th {\n",
       "        vertical-align: top;\n",
       "    }\n",
       "\n",
       "    .dataframe thead th {\n",
       "        text-align: right;\n",
       "    }\n",
       "</style>\n",
       "<table border=\"1\" class=\"dataframe\">\n",
       "  <thead>\n",
       "    <tr style=\"text-align: right;\">\n",
       "      <th></th>\n",
       "      <th>age</th>\n",
       "      <th>sex</th>\n",
       "      <th>bmi</th>\n",
       "      <th>children</th>\n",
       "      <th>smoker</th>\n",
       "      <th>region</th>\n",
       "      <th>charges</th>\n",
       "    </tr>\n",
       "  </thead>\n",
       "  <tbody>\n",
       "    <tr>\n",
       "      <th>0</th>\n",
       "      <td>19</td>\n",
       "      <td>female</td>\n",
       "      <td>27.900</td>\n",
       "      <td>0</td>\n",
       "      <td>yes</td>\n",
       "      <td>southwest</td>\n",
       "      <td>16884.92400</td>\n",
       "    </tr>\n",
       "    <tr>\n",
       "      <th>1</th>\n",
       "      <td>18</td>\n",
       "      <td>male</td>\n",
       "      <td>33.770</td>\n",
       "      <td>1</td>\n",
       "      <td>no</td>\n",
       "      <td>southeast</td>\n",
       "      <td>1725.55230</td>\n",
       "    </tr>\n",
       "    <tr>\n",
       "      <th>2</th>\n",
       "      <td>28</td>\n",
       "      <td>male</td>\n",
       "      <td>33.000</td>\n",
       "      <td>3</td>\n",
       "      <td>no</td>\n",
       "      <td>southeast</td>\n",
       "      <td>4449.46200</td>\n",
       "    </tr>\n",
       "    <tr>\n",
       "      <th>3</th>\n",
       "      <td>33</td>\n",
       "      <td>male</td>\n",
       "      <td>22.705</td>\n",
       "      <td>0</td>\n",
       "      <td>no</td>\n",
       "      <td>northwest</td>\n",
       "      <td>21984.47061</td>\n",
       "    </tr>\n",
       "    <tr>\n",
       "      <th>4</th>\n",
       "      <td>32</td>\n",
       "      <td>male</td>\n",
       "      <td>28.880</td>\n",
       "      <td>0</td>\n",
       "      <td>no</td>\n",
       "      <td>northwest</td>\n",
       "      <td>3866.85520</td>\n",
       "    </tr>\n",
       "  </tbody>\n",
       "</table>\n",
       "</div>"
      ],
      "text/plain": [
       "   age     sex     bmi  children smoker     region      charges\n",
       "0   19  female  27.900         0    yes  southwest  16884.92400\n",
       "1   18    male  33.770         1     no  southeast   1725.55230\n",
       "2   28    male  33.000         3     no  southeast   4449.46200\n",
       "3   33    male  22.705         0     no  northwest  21984.47061\n",
       "4   32    male  28.880         0     no  northwest   3866.85520"
      ]
     },
     "execution_count": 66,
     "metadata": {},
     "output_type": "execute_result"
    }
   ],
   "source": [
    "df=pd.read_csv('medical_insurance.csv')\n",
    "df.head()"
   ]
  },
  {
   "cell_type": "code",
   "execution_count": 67,
   "id": "21f98ed2-a668-430f-953f-daf7fe84c098",
   "metadata": {},
   "outputs": [
    {
     "data": {
      "text/plain": [
       "(1338, 7)"
      ]
     },
     "execution_count": 67,
     "metadata": {},
     "output_type": "execute_result"
    }
   ],
   "source": [
    "df.shape"
   ]
  },
  {
   "cell_type": "code",
   "execution_count": 68,
   "id": "938c0d13-169d-44c9-81d0-6ddb95c5ee8c",
   "metadata": {},
   "outputs": [
    {
     "data": {
      "text/plain": [
       "Index(['age', 'sex', 'bmi', 'children', 'smoker', 'region', 'charges'], dtype='object')"
      ]
     },
     "execution_count": 68,
     "metadata": {},
     "output_type": "execute_result"
    }
   ],
   "source": [
    "df.columns"
   ]
  },
  {
   "cell_type": "code",
   "execution_count": 69,
   "id": "3be787dd-8dfa-418c-b046-d36ee545854f",
   "metadata": {},
   "outputs": [
    {
     "name": "stdout",
     "output_type": "stream",
     "text": [
      "<class 'pandas.core.frame.DataFrame'>\n",
      "RangeIndex: 1338 entries, 0 to 1337\n",
      "Data columns (total 7 columns):\n",
      " #   Column    Non-Null Count  Dtype  \n",
      "---  ------    --------------  -----  \n",
      " 0   age       1338 non-null   int64  \n",
      " 1   sex       1338 non-null   object \n",
      " 2   bmi       1338 non-null   float64\n",
      " 3   children  1338 non-null   int64  \n",
      " 4   smoker    1338 non-null   object \n",
      " 5   region    1338 non-null   object \n",
      " 6   charges   1338 non-null   float64\n",
      "dtypes: float64(2), int64(2), object(3)\n",
      "memory usage: 73.3+ KB\n"
     ]
    }
   ],
   "source": [
    "df.info()"
   ]
  },
  {
   "cell_type": "code",
   "execution_count": 70,
   "id": "154e9ffd-51be-4d2f-89ac-689484588fb4",
   "metadata": {},
   "outputs": [
    {
     "data": {
      "text/html": [
       "<div>\n",
       "<style scoped>\n",
       "    .dataframe tbody tr th:only-of-type {\n",
       "        vertical-align: middle;\n",
       "    }\n",
       "\n",
       "    .dataframe tbody tr th {\n",
       "        vertical-align: top;\n",
       "    }\n",
       "\n",
       "    .dataframe thead th {\n",
       "        text-align: right;\n",
       "    }\n",
       "</style>\n",
       "<table border=\"1\" class=\"dataframe\">\n",
       "  <thead>\n",
       "    <tr style=\"text-align: right;\">\n",
       "      <th></th>\n",
       "      <th>age</th>\n",
       "      <th>bmi</th>\n",
       "      <th>children</th>\n",
       "      <th>charges</th>\n",
       "    </tr>\n",
       "  </thead>\n",
       "  <tbody>\n",
       "    <tr>\n",
       "      <th>count</th>\n",
       "      <td>1338.000000</td>\n",
       "      <td>1338.000000</td>\n",
       "      <td>1338.000000</td>\n",
       "      <td>1338.000000</td>\n",
       "    </tr>\n",
       "    <tr>\n",
       "      <th>mean</th>\n",
       "      <td>39.207025</td>\n",
       "      <td>30.663397</td>\n",
       "      <td>1.094918</td>\n",
       "      <td>13270.422265</td>\n",
       "    </tr>\n",
       "    <tr>\n",
       "      <th>std</th>\n",
       "      <td>14.049960</td>\n",
       "      <td>6.098187</td>\n",
       "      <td>1.205493</td>\n",
       "      <td>12110.011237</td>\n",
       "    </tr>\n",
       "    <tr>\n",
       "      <th>min</th>\n",
       "      <td>18.000000</td>\n",
       "      <td>15.960000</td>\n",
       "      <td>0.000000</td>\n",
       "      <td>1121.873900</td>\n",
       "    </tr>\n",
       "    <tr>\n",
       "      <th>25%</th>\n",
       "      <td>27.000000</td>\n",
       "      <td>26.296250</td>\n",
       "      <td>0.000000</td>\n",
       "      <td>4740.287150</td>\n",
       "    </tr>\n",
       "    <tr>\n",
       "      <th>50%</th>\n",
       "      <td>39.000000</td>\n",
       "      <td>30.400000</td>\n",
       "      <td>1.000000</td>\n",
       "      <td>9382.033000</td>\n",
       "    </tr>\n",
       "    <tr>\n",
       "      <th>75%</th>\n",
       "      <td>51.000000</td>\n",
       "      <td>34.693750</td>\n",
       "      <td>2.000000</td>\n",
       "      <td>16639.912515</td>\n",
       "    </tr>\n",
       "    <tr>\n",
       "      <th>max</th>\n",
       "      <td>64.000000</td>\n",
       "      <td>53.130000</td>\n",
       "      <td>5.000000</td>\n",
       "      <td>63770.428010</td>\n",
       "    </tr>\n",
       "  </tbody>\n",
       "</table>\n",
       "</div>"
      ],
      "text/plain": [
       "               age          bmi     children       charges\n",
       "count  1338.000000  1338.000000  1338.000000   1338.000000\n",
       "mean     39.207025    30.663397     1.094918  13270.422265\n",
       "std      14.049960     6.098187     1.205493  12110.011237\n",
       "min      18.000000    15.960000     0.000000   1121.873900\n",
       "25%      27.000000    26.296250     0.000000   4740.287150\n",
       "50%      39.000000    30.400000     1.000000   9382.033000\n",
       "75%      51.000000    34.693750     2.000000  16639.912515\n",
       "max      64.000000    53.130000     5.000000  63770.428010"
      ]
     },
     "execution_count": 70,
     "metadata": {},
     "output_type": "execute_result"
    }
   ],
   "source": [
    "df.describe()"
   ]
  },
  {
   "cell_type": "code",
   "execution_count": 9,
   "id": "1d0cf9aa-2a4c-4d37-a6e3-57386142f79c",
   "metadata": {},
   "outputs": [
    {
     "data": {
      "text/plain": [
       "<Axes: >"
      ]
     },
     "execution_count": 9,
     "metadata": {},
     "output_type": "execute_result"
    },
    {
     "data": {
      "image/png": "[encoded data removed]",
      "text/plain": [
       "<Figure size 640x480 with 1 Axes>"
      ]
     },
     "metadata": {},
     "output_type": "display_data"
    }
   ],
   "source": [
    "#age\n",
    "sns.boxplot(df['age'])"
   ]
  },
  {
   "cell_type": "code",
   "execution_count": 71,
   "id": "6c499dad-5d5d-4baf-b13a-dd9ad3335c49",
   "metadata": {},
   "outputs": [
    {
     "data": {
      "text/plain": [
       "<Axes: xlabel='age', ylabel='Count'>"
      ]
     },
     "execution_count": 71,
     "metadata": {},
     "output_type": "execute_result"
    },
    {
     "data": {
      "image/png": "[encoded data removed]",
      "text/plain": [
       "<Figure size 640x480 with 1 Axes>"
      ]
     },
     "metadata": {},
     "output_type": "display_data"
    }
   ],
   "source": [
    "sns.histplot(df['age'])"
   ]
  },
  {
   "cell_type": "code",
   "execution_count": 14,
   "id": "d0466fe1-2ba2-4afb-be81-f473d77d4fb2",
   "metadata": {},
   "outputs": [
    {
     "data": {
      "text/plain": [
       "<Axes: xlabel='age', ylabel='Density'>"
      ]
     },
     "execution_count": 14,
     "metadata": {},
     "output_type": "execute_result"
    },
    {
     "data": {
      "image/png": "[encoded data removed]",
      "text/plain": [
       "<Figure size 640x480 with 1 Axes>"
      ]
     },
     "metadata": {},
     "output_type": "display_data"
    }
   ],
   "source": [
    "sns.kdeplot(df['age'])"
   ]
  },
  {
   "cell_type": "code",
   "execution_count": 72,
   "id": "ace6d7ab-1edd-40cc-b360-100964eced64",
   "metadata": {},
   "outputs": [
    {
     "data": {
      "text/plain": [
       "<Axes: xlabel='bmi', ylabel='Count'>"
      ]
     },
     "execution_count": 72,
     "metadata": {},
     "output_type": "execute_result"
    },
    {
     "data": {
      "image/png": "[encoded data removed]",
      "text/plain": [
       "<Figure size 640x480 with 1 Axes>"
      ]
     },
     "metadata": {},
     "output_type": "display_data"
    }
   ],
   "source": [
    "#sex\n",
    "sns.histplot(df['bmi'])"
   ]
  },
  {
   "cell_type": "code",
   "execution_count": 73,
   "id": "7b7791ce-1e45-4da3-a2f4-aa8148c1e20d",
   "metadata": {},
   "outputs": [
    {
     "data": {
      "text/plain": [
       "<Axes: >"
      ]
     },
     "execution_count": 73,
     "metadata": {},
     "output_type": "execute_result"
    },
    {
     "data": {
      "image/png": "[encoded data removed]",
      "text/plain": [
       "<Figure size 640x480 with 1 Axes>"
      ]
     },
     "metadata": {},
     "output_type": "display_data"
    }
   ],
   "source": [
    "sns.boxplot(df['bmi'])"
   ]
  },
  {
   "cell_type": "code",
   "execution_count": 74,
   "id": "75c0de2b-5565-4998-8da0-58d174ffaf53",
   "metadata": {},
   "outputs": [
    {
     "data": {
      "text/plain": [
       "<seaborn.axisgrid.PairGrid at 0x2901a825210>"
      ]
     },
     "execution_count": 74,
     "metadata": {},
     "output_type": "execute_result"
    },
    {
     "data": {
      "image/png": "[encoded data removed]",
      "text/plain": [
       "<Figure size 750x750 with 12 Axes>"
      ]
     },
     "metadata": {},
     "output_type": "display_data"
    }
   ],
   "source": [
    "sns.pairplot(data=df,vars=['age','bmi','charges'])"
   ]
  },
  {
   "cell_type": "code",
   "execution_count": 75,
   "id": "6793f855-1997-4ef0-9e45-f5f7b069256c",
   "metadata": {},
   "outputs": [
    {
     "data": {
      "text/html": [
       "<div>\n",
       "<style scoped>\n",
       "    .dataframe tbody tr th:only-of-type {\n",
       "        vertical-align: middle;\n",
       "    }\n",
       "\n",
       "    .dataframe tbody tr th {\n",
       "        vertical-align: top;\n",
       "    }\n",
       "\n",
       "    .dataframe thead th {\n",
       "        text-align: right;\n",
       "    }\n",
       "</style>\n",
       "<table border=\"1\" class=\"dataframe\">\n",
       "  <thead>\n",
       "    <tr style=\"text-align: right;\">\n",
       "      <th>region</th>\n",
       "      <th>northeast</th>\n",
       "      <th>northwest</th>\n",
       "      <th>southeast</th>\n",
       "      <th>southwest</th>\n",
       "    </tr>\n",
       "    <tr>\n",
       "      <th>sex</th>\n",
       "      <th></th>\n",
       "      <th></th>\n",
       "      <th></th>\n",
       "      <th></th>\n",
       "    </tr>\n",
       "  </thead>\n",
       "  <tbody>\n",
       "    <tr>\n",
       "      <th>female</th>\n",
       "      <td>161</td>\n",
       "      <td>164</td>\n",
       "      <td>175</td>\n",
       "      <td>162</td>\n",
       "    </tr>\n",
       "    <tr>\n",
       "      <th>male</th>\n",
       "      <td>163</td>\n",
       "      <td>161</td>\n",
       "      <td>189</td>\n",
       "      <td>163</td>\n",
       "    </tr>\n",
       "  </tbody>\n",
       "</table>\n",
       "</div>"
      ],
      "text/plain": [
       "region  northeast  northwest  southeast  southwest\n",
       "sex                                               \n",
       "female        161        164        175        162\n",
       "male          163        161        189        163"
      ]
     },
     "execution_count": 75,
     "metadata": {},
     "output_type": "execute_result"
    }
   ],
   "source": [
    "pd.crosstab(df['sex'],df['region'])"
   ]
  },
  {
   "cell_type": "code",
   "execution_count": 76,
   "id": "050fffc6-6389-4ed2-8610-02401b160bbc",
   "metadata": {},
   "outputs": [
    {
     "data": {
      "text/html": [
       "<div>\n",
       "<style scoped>\n",
       "    .dataframe tbody tr th:only-of-type {\n",
       "        vertical-align: middle;\n",
       "    }\n",
       "\n",
       "    .dataframe tbody tr th {\n",
       "        vertical-align: top;\n",
       "    }\n",
       "\n",
       "    .dataframe thead th {\n",
       "        text-align: right;\n",
       "    }\n",
       "</style>\n",
       "<table border=\"1\" class=\"dataframe\">\n",
       "  <thead>\n",
       "    <tr style=\"text-align: right;\">\n",
       "      <th></th>\n",
       "      <th></th>\n",
       "      <th>region_index</th>\n",
       "    </tr>\n",
       "    <tr>\n",
       "      <th>age</th>\n",
       "      <th>region</th>\n",
       "      <th></th>\n",
       "    </tr>\n",
       "  </thead>\n",
       "  <tbody>\n",
       "    <tr>\n",
       "      <th rowspan=\"2\" valign=\"top\">18</th>\n",
       "      <th>southeast</th>\n",
       "      <td>37</td>\n",
       "    </tr>\n",
       "    <tr>\n",
       "      <th>northeast</th>\n",
       "      <td>32</td>\n",
       "    </tr>\n",
       "    <tr>\n",
       "      <th rowspan=\"3\" valign=\"top\">19</th>\n",
       "      <th>northwest</th>\n",
       "      <td>34</td>\n",
       "    </tr>\n",
       "    <tr>\n",
       "      <th>southwest</th>\n",
       "      <td>31</td>\n",
       "    </tr>\n",
       "    <tr>\n",
       "      <th>southeast</th>\n",
       "      <td>3</td>\n",
       "    </tr>\n",
       "    <tr>\n",
       "      <th>...</th>\n",
       "      <th>...</th>\n",
       "      <td>...</td>\n",
       "    </tr>\n",
       "    <tr>\n",
       "      <th>63</th>\n",
       "      <th>northeast</th>\n",
       "      <td>5</td>\n",
       "    </tr>\n",
       "    <tr>\n",
       "      <th rowspan=\"4\" valign=\"top\">64</th>\n",
       "      <th>southeast</th>\n",
       "      <td>8</td>\n",
       "    </tr>\n",
       "    <tr>\n",
       "      <th>northwest</th>\n",
       "      <td>5</td>\n",
       "    </tr>\n",
       "    <tr>\n",
       "      <th>southwest</th>\n",
       "      <td>5</td>\n",
       "    </tr>\n",
       "    <tr>\n",
       "      <th>northeast</th>\n",
       "      <td>4</td>\n",
       "    </tr>\n",
       "  </tbody>\n",
       "</table>\n",
       "<p>185 rows × 1 columns</p>\n",
       "</div>"
      ],
      "text/plain": [
       "               region_index\n",
       "age region                 \n",
       "18  southeast            37\n",
       "    northeast            32\n",
       "19  northwest            34\n",
       "    southwest            31\n",
       "    southeast             3\n",
       "...                     ...\n",
       "63  northeast             5\n",
       "64  southeast             8\n",
       "    northwest             5\n",
       "    southwest             5\n",
       "    northeast             4\n",
       "\n",
       "[185 rows x 1 columns]"
      ]
     },
     "execution_count": 76,
     "metadata": {},
     "output_type": "execute_result"
    }
   ],
   "source": [
    "df1=df.groupby('age').agg(region_index=('region','value_counts'))\n",
    "df1"
   ]
  },
  {
   "cell_type": "code",
   "execution_count": 77,
   "id": "5e144541-d04d-4934-a359-c821bac41b99",
   "metadata": {},
   "outputs": [
    {
     "data": {
      "text/html": [
       "<div>\n",
       "<style scoped>\n",
       "    .dataframe tbody tr th:only-of-type {\n",
       "        vertical-align: middle;\n",
       "    }\n",
       "\n",
       "    .dataframe tbody tr th {\n",
       "        vertical-align: top;\n",
       "    }\n",
       "\n",
       "    .dataframe thead th {\n",
       "        text-align: right;\n",
       "    }\n",
       "</style>\n",
       "<table border=\"1\" class=\"dataframe\">\n",
       "  <thead>\n",
       "    <tr style=\"text-align: right;\">\n",
       "      <th></th>\n",
       "      <th>age</th>\n",
       "      <th>gender</th>\n",
       "      <th>bmi</th>\n",
       "      <th>children</th>\n",
       "      <th>smoker</th>\n",
       "      <th>region</th>\n",
       "      <th>charges</th>\n",
       "    </tr>\n",
       "  </thead>\n",
       "  <tbody>\n",
       "    <tr>\n",
       "      <th>0</th>\n",
       "      <td>19</td>\n",
       "      <td>female</td>\n",
       "      <td>27.9</td>\n",
       "      <td>0</td>\n",
       "      <td>yes</td>\n",
       "      <td>southwest</td>\n",
       "      <td>16884.924</td>\n",
       "    </tr>\n",
       "  </tbody>\n",
       "</table>\n",
       "</div>"
      ],
      "text/plain": [
       "   age  gender   bmi  children smoker     region    charges\n",
       "0   19  female  27.9         0    yes  southwest  16884.924"
      ]
     },
     "execution_count": 77,
     "metadata": {},
     "output_type": "execute_result"
    }
   ],
   "source": [
    "df.rename(columns={'sex':'gender'},inplace=True)\n",
    "df.head(1)"
   ]
  },
  {
   "cell_type": "code",
   "execution_count": 78,
   "id": "f86b445f-4593-46c2-bfeb-92c2bfe65298",
   "metadata": {},
   "outputs": [
    {
     "data": {
      "text/html": [
       "<div>\n",
       "<style scoped>\n",
       "    .dataframe tbody tr th:only-of-type {\n",
       "        vertical-align: middle;\n",
       "    }\n",
       "\n",
       "    .dataframe tbody tr th {\n",
       "        vertical-align: top;\n",
       "    }\n",
       "\n",
       "    .dataframe thead th {\n",
       "        text-align: right;\n",
       "    }\n",
       "</style>\n",
       "<table border=\"1\" class=\"dataframe\">\n",
       "  <thead>\n",
       "    <tr style=\"text-align: right;\">\n",
       "      <th></th>\n",
       "      <th>age</th>\n",
       "      <th>gender</th>\n",
       "      <th>bmi</th>\n",
       "      <th>children</th>\n",
       "      <th>smoker</th>\n",
       "      <th>region</th>\n",
       "      <th>charges</th>\n",
       "    </tr>\n",
       "  </thead>\n",
       "  <tbody>\n",
       "    <tr>\n",
       "      <th>0</th>\n",
       "      <td>19</td>\n",
       "      <td>1</td>\n",
       "      <td>27.90</td>\n",
       "      <td>0</td>\n",
       "      <td>yes</td>\n",
       "      <td>southwest</td>\n",
       "      <td>16884.9240</td>\n",
       "    </tr>\n",
       "    <tr>\n",
       "      <th>1</th>\n",
       "      <td>18</td>\n",
       "      <td>0</td>\n",
       "      <td>33.77</td>\n",
       "      <td>1</td>\n",
       "      <td>no</td>\n",
       "      <td>southeast</td>\n",
       "      <td>1725.5523</td>\n",
       "    </tr>\n",
       "  </tbody>\n",
       "</table>\n",
       "</div>"
      ],
      "text/plain": [
       "   age  gender    bmi  children smoker     region     charges\n",
       "0   19       1  27.90         0    yes  southwest  16884.9240\n",
       "1   18       0  33.77         1     no  southeast   1725.5523"
      ]
     },
     "execution_count": 78,
     "metadata": {},
     "output_type": "execute_result"
    }
   ],
   "source": [
    "df['gender'].replace({'male':0,'female':1},inplace=True)\n",
    "df.head(2)"
   ]
  },
  {
   "cell_type": "code",
   "execution_count": 79,
   "id": "fac6e360-5af8-492f-b06e-52a2358308a4",
   "metadata": {},
   "outputs": [
    {
     "data": {
      "text/html": [
       "<div>\n",
       "<style scoped>\n",
       "    .dataframe tbody tr th:only-of-type {\n",
       "        vertical-align: middle;\n",
       "    }\n",
       "\n",
       "    .dataframe tbody tr th {\n",
       "        vertical-align: top;\n",
       "    }\n",
       "\n",
       "    .dataframe thead th {\n",
       "        text-align: right;\n",
       "    }\n",
       "</style>\n",
       "<table border=\"1\" class=\"dataframe\">\n",
       "  <thead>\n",
       "    <tr style=\"text-align: right;\">\n",
       "      <th></th>\n",
       "      <th>age</th>\n",
       "      <th>gender</th>\n",
       "      <th>bmi</th>\n",
       "      <th>children</th>\n",
       "      <th>smoker</th>\n",
       "      <th>region</th>\n",
       "      <th>charges</th>\n",
       "    </tr>\n",
       "  </thead>\n",
       "  <tbody>\n",
       "    <tr>\n",
       "      <th>0</th>\n",
       "      <td>19</td>\n",
       "      <td>1</td>\n",
       "      <td>27.90</td>\n",
       "      <td>0</td>\n",
       "      <td>1</td>\n",
       "      <td>southwest</td>\n",
       "      <td>16884.9240</td>\n",
       "    </tr>\n",
       "    <tr>\n",
       "      <th>1</th>\n",
       "      <td>18</td>\n",
       "      <td>0</td>\n",
       "      <td>33.77</td>\n",
       "      <td>1</td>\n",
       "      <td>0</td>\n",
       "      <td>southeast</td>\n",
       "      <td>1725.5523</td>\n",
       "    </tr>\n",
       "  </tbody>\n",
       "</table>\n",
       "</div>"
      ],
      "text/plain": [
       "   age  gender    bmi  children  smoker     region     charges\n",
       "0   19       1  27.90         0       1  southwest  16884.9240\n",
       "1   18       0  33.77         1       0  southeast   1725.5523"
      ]
     },
     "execution_count": 79,
     "metadata": {},
     "output_type": "execute_result"
    }
   ],
   "source": [
    "df['smoker'].replace({'yes':1,'no':0},inplace=True)\n",
    "df.head(2)"
   ]
  },
  {
   "cell_type": "code",
   "execution_count": 80,
   "id": "8c7aeab1-f68a-400c-b06f-fecc65728ef3",
   "metadata": {},
   "outputs": [
    {
     "data": {
      "text/html": [
       "<div>\n",
       "<style scoped>\n",
       "    .dataframe tbody tr th:only-of-type {\n",
       "        vertical-align: middle;\n",
       "    }\n",
       "\n",
       "    .dataframe tbody tr th {\n",
       "        vertical-align: top;\n",
       "    }\n",
       "\n",
       "    .dataframe thead th {\n",
       "        text-align: right;\n",
       "    }\n",
       "</style>\n",
       "<table border=\"1\" class=\"dataframe\">\n",
       "  <thead>\n",
       "    <tr style=\"text-align: right;\">\n",
       "      <th></th>\n",
       "      <th>age</th>\n",
       "      <th>gender</th>\n",
       "      <th>bmi</th>\n",
       "      <th>children</th>\n",
       "      <th>smoker</th>\n",
       "      <th>charges</th>\n",
       "      <th>region_northeast</th>\n",
       "      <th>region_northwest</th>\n",
       "      <th>region_southeast</th>\n",
       "      <th>region_southwest</th>\n",
       "    </tr>\n",
       "  </thead>\n",
       "  <tbody>\n",
       "    <tr>\n",
       "      <th>0</th>\n",
       "      <td>19</td>\n",
       "      <td>1</td>\n",
       "      <td>27.900</td>\n",
       "      <td>0</td>\n",
       "      <td>1</td>\n",
       "      <td>16884.92400</td>\n",
       "      <td>0</td>\n",
       "      <td>0</td>\n",
       "      <td>0</td>\n",
       "      <td>1</td>\n",
       "    </tr>\n",
       "    <tr>\n",
       "      <th>1</th>\n",
       "      <td>18</td>\n",
       "      <td>0</td>\n",
       "      <td>33.770</td>\n",
       "      <td>1</td>\n",
       "      <td>0</td>\n",
       "      <td>1725.55230</td>\n",
       "      <td>0</td>\n",
       "      <td>0</td>\n",
       "      <td>1</td>\n",
       "      <td>0</td>\n",
       "    </tr>\n",
       "    <tr>\n",
       "      <th>2</th>\n",
       "      <td>28</td>\n",
       "      <td>0</td>\n",
       "      <td>33.000</td>\n",
       "      <td>3</td>\n",
       "      <td>0</td>\n",
       "      <td>4449.46200</td>\n",
       "      <td>0</td>\n",
       "      <td>0</td>\n",
       "      <td>1</td>\n",
       "      <td>0</td>\n",
       "    </tr>\n",
       "    <tr>\n",
       "      <th>3</th>\n",
       "      <td>33</td>\n",
       "      <td>0</td>\n",
       "      <td>22.705</td>\n",
       "      <td>0</td>\n",
       "      <td>0</td>\n",
       "      <td>21984.47061</td>\n",
       "      <td>0</td>\n",
       "      <td>1</td>\n",
       "      <td>0</td>\n",
       "      <td>0</td>\n",
       "    </tr>\n",
       "    <tr>\n",
       "      <th>4</th>\n",
       "      <td>32</td>\n",
       "      <td>0</td>\n",
       "      <td>28.880</td>\n",
       "      <td>0</td>\n",
       "      <td>0</td>\n",
       "      <td>3866.85520</td>\n",
       "      <td>0</td>\n",
       "      <td>1</td>\n",
       "      <td>0</td>\n",
       "      <td>0</td>\n",
       "    </tr>\n",
       "    <tr>\n",
       "      <th>...</th>\n",
       "      <td>...</td>\n",
       "      <td>...</td>\n",
       "      <td>...</td>\n",
       "      <td>...</td>\n",
       "      <td>...</td>\n",
       "      <td>...</td>\n",
       "      <td>...</td>\n",
       "      <td>...</td>\n",
       "      <td>...</td>\n",
       "      <td>...</td>\n",
       "    </tr>\n",
       "    <tr>\n",
       "      <th>1333</th>\n",
       "      <td>50</td>\n",
       "      <td>0</td>\n",
       "      <td>30.970</td>\n",
       "      <td>3</td>\n",
       "      <td>0</td>\n",
       "      <td>10600.54830</td>\n",
       "      <td>0</td>\n",
       "      <td>1</td>\n",
       "      <td>0</td>\n",
       "      <td>0</td>\n",
       "    </tr>\n",
       "    <tr>\n",
       "      <th>1334</th>\n",
       "      <td>18</td>\n",
       "      <td>1</td>\n",
       "      <td>31.920</td>\n",
       "      <td>0</td>\n",
       "      <td>0</td>\n",
       "      <td>2205.98080</td>\n",
       "      <td>1</td>\n",
       "      <td>0</td>\n",
       "      <td>0</td>\n",
       "      <td>0</td>\n",
       "    </tr>\n",
       "    <tr>\n",
       "      <th>1335</th>\n",
       "      <td>18</td>\n",
       "      <td>1</td>\n",
       "      <td>36.850</td>\n",
       "      <td>0</td>\n",
       "      <td>0</td>\n",
       "      <td>1629.83350</td>\n",
       "      <td>0</td>\n",
       "      <td>0</td>\n",
       "      <td>1</td>\n",
       "      <td>0</td>\n",
       "    </tr>\n",
       "    <tr>\n",
       "      <th>1336</th>\n",
       "      <td>21</td>\n",
       "      <td>1</td>\n",
       "      <td>25.800</td>\n",
       "      <td>0</td>\n",
       "      <td>0</td>\n",
       "      <td>2007.94500</td>\n",
       "      <td>0</td>\n",
       "      <td>0</td>\n",
       "      <td>0</td>\n",
       "      <td>1</td>\n",
       "    </tr>\n",
       "    <tr>\n",
       "      <th>1337</th>\n",
       "      <td>61</td>\n",
       "      <td>1</td>\n",
       "      <td>29.070</td>\n",
       "      <td>0</td>\n",
       "      <td>1</td>\n",
       "      <td>29141.36030</td>\n",
       "      <td>0</td>\n",
       "      <td>1</td>\n",
       "      <td>0</td>\n",
       "      <td>0</td>\n",
       "    </tr>\n",
       "  </tbody>\n",
       "</table>\n",
       "<p>1338 rows × 10 columns</p>\n",
       "</div>"
      ],
      "text/plain": [
       "      age  gender     bmi  children  smoker      charges  region_northeast  \\\n",
       "0      19       1  27.900         0       1  16884.92400                 0   \n",
       "1      18       0  33.770         1       0   1725.55230                 0   \n",
       "2      28       0  33.000         3       0   4449.46200                 0   \n",
       "3      33       0  22.705         0       0  21984.47061                 0   \n",
       "4      32       0  28.880         0       0   3866.85520                 0   \n",
       "...   ...     ...     ...       ...     ...          ...               ...   \n",
       "1333   50       0  30.970         3       0  10600.54830                 0   \n",
       "1334   18       1  31.920         0       0   2205.98080                 1   \n",
       "1335   18       1  36.850         0       0   1629.83350                 0   \n",
       "1336   21       1  25.800         0       0   2007.94500                 0   \n",
       "1337   61       1  29.070         0       1  29141.36030                 0   \n",
       "\n",
       "      region_northwest  region_southeast  region_southwest  \n",
       "0                    0                 0                 1  \n",
       "1                    0                 1                 0  \n",
       "2                    0                 1                 0  \n",
       "3                    1                 0                 0  \n",
       "4                    1                 0                 0  \n",
       "...                ...               ...               ...  \n",
       "1333                 1                 0                 0  \n",
       "1334                 0                 0                 0  \n",
       "1335                 0                 1                 0  \n",
       "1336                 0                 0                 1  \n",
       "1337                 1                 0                 0  \n",
       "\n",
       "[1338 rows x 10 columns]"
      ]
     },
     "execution_count": 80,
     "metadata": {},
     "output_type": "execute_result"
    }
   ],
   "source": [
    "df=pd.get_dummies(data=df,columns=['region'],dtype=int)\n",
    "df"
   ]
  },
  {
   "cell_type": "code",
   "execution_count": 81,
   "id": "006ce058-3429-4571-8b2a-5e133a214bff",
   "metadata": {},
   "outputs": [
    {
     "data": {
      "text/html": [
       "<div>\n",
       "<style scoped>\n",
       "    .dataframe tbody tr th:only-of-type {\n",
       "        vertical-align: middle;\n",
       "    }\n",
       "\n",
       "    .dataframe tbody tr th {\n",
       "        vertical-align: top;\n",
       "    }\n",
       "\n",
       "    .dataframe thead th {\n",
       "        text-align: right;\n",
       "    }\n",
       "</style>\n",
       "<table border=\"1\" class=\"dataframe\">\n",
       "  <thead>\n",
       "    <tr style=\"text-align: right;\">\n",
       "      <th></th>\n",
       "      <th>age</th>\n",
       "      <th>gender</th>\n",
       "      <th>bmi</th>\n",
       "      <th>children</th>\n",
       "      <th>smoker</th>\n",
       "      <th>charges</th>\n",
       "      <th>region_northeast</th>\n",
       "      <th>region_northwest</th>\n",
       "      <th>region_southeast</th>\n",
       "      <th>region_southwest</th>\n",
       "      <th>age_buckets</th>\n",
       "    </tr>\n",
       "  </thead>\n",
       "  <tbody>\n",
       "    <tr>\n",
       "      <th>0</th>\n",
       "      <td>19</td>\n",
       "      <td>1</td>\n",
       "      <td>27.9</td>\n",
       "      <td>0</td>\n",
       "      <td>1</td>\n",
       "      <td>16884.924</td>\n",
       "      <td>0</td>\n",
       "      <td>0</td>\n",
       "      <td>0</td>\n",
       "      <td>1</td>\n",
       "      <td>1</td>\n",
       "    </tr>\n",
       "  </tbody>\n",
       "</table>\n",
       "</div>"
      ],
      "text/plain": [
       "   age  gender   bmi  children  smoker    charges  region_northeast  \\\n",
       "0   19       1  27.9         0       1  16884.924                 0   \n",
       "\n",
       "   region_northwest  region_southeast  region_southwest age_buckets  \n",
       "0                 0                 0                 1           1  "
      ]
     },
     "execution_count": 81,
     "metadata": {},
     "output_type": "execute_result"
    }
   ],
   "source": [
    "bins=[0,18,25,45,60,np.inf]\n",
    "labels=[0,1,2,3,4]\n",
    "df['age_buckets']=pd.cut(df['age'],bins=bins,labels=labels,include_lowest=True)\n",
    "df.head(1)"
   ]
  },
  {
   "cell_type": "code",
   "execution_count": 82,
   "id": "0b12da38-79fd-4945-bcad-4cfa8480a874",
   "metadata": {},
   "outputs": [
    {
     "data": {
      "text/html": [
       "<div>\n",
       "<style scoped>\n",
       "    .dataframe tbody tr th:only-of-type {\n",
       "        vertical-align: middle;\n",
       "    }\n",
       "\n",
       "    .dataframe tbody tr th {\n",
       "        vertical-align: top;\n",
       "    }\n",
       "\n",
       "    .dataframe thead th {\n",
       "        text-align: right;\n",
       "    }\n",
       "</style>\n",
       "<table border=\"1\" class=\"dataframe\">\n",
       "  <thead>\n",
       "    <tr style=\"text-align: right;\">\n",
       "      <th></th>\n",
       "      <th>age</th>\n",
       "      <th>gender</th>\n",
       "      <th>bmi</th>\n",
       "      <th>children</th>\n",
       "      <th>smoker</th>\n",
       "      <th>charges</th>\n",
       "      <th>region_northeast</th>\n",
       "      <th>region_northwest</th>\n",
       "      <th>region_southeast</th>\n",
       "      <th>region_southwest</th>\n",
       "      <th>age_buckets</th>\n",
       "      <th>weight</th>\n",
       "    </tr>\n",
       "  </thead>\n",
       "  <tbody>\n",
       "    <tr>\n",
       "      <th>0</th>\n",
       "      <td>19</td>\n",
       "      <td>1</td>\n",
       "      <td>27.9</td>\n",
       "      <td>0</td>\n",
       "      <td>1</td>\n",
       "      <td>16884.924</td>\n",
       "      <td>0</td>\n",
       "      <td>0</td>\n",
       "      <td>0</td>\n",
       "      <td>1</td>\n",
       "      <td>1</td>\n",
       "      <td>1</td>\n",
       "    </tr>\n",
       "  </tbody>\n",
       "</table>\n",
       "</div>"
      ],
      "text/plain": [
       "   age  gender   bmi  children  smoker    charges  region_northeast  \\\n",
       "0   19       1  27.9         0       1  16884.924                 0   \n",
       "\n",
       "   region_northwest  region_southeast  region_southwest age_buckets  weight  \n",
       "0                 0                 0                 1           1       1  "
      ]
     },
     "execution_count": 82,
     "metadata": {},
     "output_type": "execute_result"
    }
   ],
   "source": [
    "df['weight']=np.where(df['bmi']>=25,1,0)\n",
    "df.head(1)"
   ]
  },
  {
   "cell_type": "code",
   "execution_count": 83,
   "id": "9e276e0c-98be-4c6c-95fb-c5df1176a17c",
   "metadata": {},
   "outputs": [
    {
     "data": {
      "text/html": [
       "<div>\n",
       "<style scoped>\n",
       "    .dataframe tbody tr th:only-of-type {\n",
       "        vertical-align: middle;\n",
       "    }\n",
       "\n",
       "    .dataframe tbody tr th {\n",
       "        vertical-align: top;\n",
       "    }\n",
       "\n",
       "    .dataframe thead th {\n",
       "        text-align: right;\n",
       "    }\n",
       "</style>\n",
       "<table border=\"1\" class=\"dataframe\">\n",
       "  <thead>\n",
       "    <tr style=\"text-align: right;\">\n",
       "      <th></th>\n",
       "      <th>age</th>\n",
       "      <th>gender</th>\n",
       "      <th>bmi</th>\n",
       "      <th>children</th>\n",
       "      <th>smoker</th>\n",
       "      <th>charges</th>\n",
       "      <th>region_northeast</th>\n",
       "      <th>region_northwest</th>\n",
       "      <th>region_southeast</th>\n",
       "      <th>region_southwest</th>\n",
       "      <th>age_buckets</th>\n",
       "      <th>weight</th>\n",
       "      <th>risky</th>\n",
       "    </tr>\n",
       "  </thead>\n",
       "  <tbody>\n",
       "    <tr>\n",
       "      <th>0</th>\n",
       "      <td>19</td>\n",
       "      <td>1</td>\n",
       "      <td>27.9</td>\n",
       "      <td>0</td>\n",
       "      <td>1</td>\n",
       "      <td>16884.924</td>\n",
       "      <td>0</td>\n",
       "      <td>0</td>\n",
       "      <td>0</td>\n",
       "      <td>1</td>\n",
       "      <td>1</td>\n",
       "      <td>1</td>\n",
       "      <td>0</td>\n",
       "    </tr>\n",
       "  </tbody>\n",
       "</table>\n",
       "</div>"
      ],
      "text/plain": [
       "   age  gender   bmi  children  smoker    charges  region_northeast  \\\n",
       "0   19       1  27.9         0       1  16884.924                 0   \n",
       "\n",
       "   region_northwest  region_southeast  region_southwest age_buckets  weight  \\\n",
       "0                 0                 0                 1           1       1   \n",
       "\n",
       "   risky  \n",
       "0      0  "
      ]
     },
     "execution_count": 83,
     "metadata": {},
     "output_type": "execute_result"
    }
   ],
   "source": [
    "df['risky']=np.where(df['age_buckets']==4,1,0)\n",
    "df.head(1)"
   ]
  },
  {
   "cell_type": "code",
   "execution_count": 84,
   "id": "13420588-bdd6-4212-8655-3cfa3fbe445f",
   "metadata": {},
   "outputs": [
    {
     "data": {
      "text/plain": [
       "False"
      ]
     },
     "execution_count": 84,
     "metadata": {},
     "output_type": "execute_result"
    }
   ],
   "source": [
    "df.columns.duplicated().any()"
   ]
  },
  {
   "cell_type": "code",
   "execution_count": 85,
   "id": "1dfa361c-c54a-470d-b1f2-efc097b9d8b3",
   "metadata": {},
   "outputs": [
    {
     "data": {
      "text/html": [
       "<div>\n",
       "<style scoped>\n",
       "    .dataframe tbody tr th:only-of-type {\n",
       "        vertical-align: middle;\n",
       "    }\n",
       "\n",
       "    .dataframe tbody tr th {\n",
       "        vertical-align: top;\n",
       "    }\n",
       "\n",
       "    .dataframe thead th {\n",
       "        text-align: right;\n",
       "    }\n",
       "</style>\n",
       "<table border=\"1\" class=\"dataframe\">\n",
       "  <thead>\n",
       "    <tr style=\"text-align: right;\">\n",
       "      <th></th>\n",
       "      <th>age</th>\n",
       "      <th>gender</th>\n",
       "      <th>bmi</th>\n",
       "      <th>children</th>\n",
       "      <th>smoker</th>\n",
       "      <th>charges</th>\n",
       "      <th>region_northeast</th>\n",
       "      <th>region_northwest</th>\n",
       "      <th>region_southeast</th>\n",
       "      <th>region_southwest</th>\n",
       "      <th>age_buckets</th>\n",
       "      <th>weight</th>\n",
       "      <th>risky</th>\n",
       "    </tr>\n",
       "  </thead>\n",
       "  <tbody>\n",
       "    <tr>\n",
       "      <th>581</th>\n",
       "      <td>19</td>\n",
       "      <td>0</td>\n",
       "      <td>30.59</td>\n",
       "      <td>0</td>\n",
       "      <td>0</td>\n",
       "      <td>1639.5631</td>\n",
       "      <td>0</td>\n",
       "      <td>1</td>\n",
       "      <td>0</td>\n",
       "      <td>0</td>\n",
       "      <td>1</td>\n",
       "      <td>1</td>\n",
       "      <td>0</td>\n",
       "    </tr>\n",
       "  </tbody>\n",
       "</table>\n",
       "</div>"
      ],
      "text/plain": [
       "     age  gender    bmi  children  smoker    charges  region_northeast  \\\n",
       "581   19       0  30.59         0       0  1639.5631                 0   \n",
       "\n",
       "     region_northwest  region_southeast  region_southwest age_buckets  weight  \\\n",
       "581                 1                 0                 0           1       1   \n",
       "\n",
       "     risky  \n",
       "581      0  "
      ]
     },
     "execution_count": 85,
     "metadata": {},
     "output_type": "execute_result"
    }
   ],
   "source": [
    "df[df.duplicated()]"
   ]
  },
  {
   "cell_type": "code",
   "execution_count": 86,
   "id": "2f18c47b-0a95-41be-9f30-a9ebd5716bc9",
   "metadata": {},
   "outputs": [
    {
     "data": {
      "text/plain": [
       "(1337, 13)"
      ]
     },
     "execution_count": 86,
     "metadata": {},
     "output_type": "execute_result"
    }
   ],
   "source": [
    "df.shape\n",
    "df1=df[~df.duplicated()]\n",
    "df1.shape"
   ]
  },
  {
   "cell_type": "code",
   "execution_count": 87,
   "id": "b87f49c8-1dc6-497b-95e4-5fc088405f78",
   "metadata": {},
   "outputs": [
    {
     "data": {
      "text/html": [
       "<div>\n",
       "<style scoped>\n",
       "    .dataframe tbody tr th:only-of-type {\n",
       "        vertical-align: middle;\n",
       "    }\n",
       "\n",
       "    .dataframe tbody tr th {\n",
       "        vertical-align: top;\n",
       "    }\n",
       "\n",
       "    .dataframe thead th {\n",
       "        text-align: right;\n",
       "    }\n",
       "</style>\n",
       "<table border=\"1\" class=\"dataframe\">\n",
       "  <thead>\n",
       "    <tr style=\"text-align: right;\">\n",
       "      <th></th>\n",
       "      <th>age</th>\n",
       "      <th>gender</th>\n",
       "      <th>bmi</th>\n",
       "      <th>children</th>\n",
       "      <th>smoker</th>\n",
       "      <th>charges</th>\n",
       "      <th>region_northeast</th>\n",
       "      <th>region_northwest</th>\n",
       "      <th>region_southeast</th>\n",
       "      <th>region_southwest</th>\n",
       "      <th>age_buckets</th>\n",
       "      <th>weight</th>\n",
       "      <th>risky</th>\n",
       "    </tr>\n",
       "  </thead>\n",
       "  <tbody>\n",
       "    <tr>\n",
       "      <th>age</th>\n",
       "      <td>1.000000</td>\n",
       "      <td>0.019814</td>\n",
       "      <td>0.109344</td>\n",
       "      <td>0.041536</td>\n",
       "      <td>-0.025587</td>\n",
       "      <td>0.298308</td>\n",
       "      <td>0.001868</td>\n",
       "      <td>0.001495</td>\n",
       "      <td>-0.012311</td>\n",
       "      <td>0.009415</td>\n",
       "      <td>0.929639</td>\n",
       "      <td>0.096043</td>\n",
       "      <td>0.447774</td>\n",
       "    </tr>\n",
       "    <tr>\n",
       "      <th>gender</th>\n",
       "      <td>0.019814</td>\n",
       "      <td>1.000000</td>\n",
       "      <td>-0.046397</td>\n",
       "      <td>-0.017848</td>\n",
       "      <td>-0.076596</td>\n",
       "      <td>-0.058044</td>\n",
       "      <td>0.002008</td>\n",
       "      <td>0.012482</td>\n",
       "      <td>-0.017578</td>\n",
       "      <td>0.003767</td>\n",
       "      <td>0.019426</td>\n",
       "      <td>-0.029740</td>\n",
       "      <td>0.011537</td>\n",
       "    </tr>\n",
       "    <tr>\n",
       "      <th>bmi</th>\n",
       "      <td>0.109344</td>\n",
       "      <td>-0.046397</td>\n",
       "      <td>1.000000</td>\n",
       "      <td>0.012755</td>\n",
       "      <td>0.003746</td>\n",
       "      <td>0.198401</td>\n",
       "      <td>-0.138178</td>\n",
       "      <td>-0.136138</td>\n",
       "      <td>0.270057</td>\n",
       "      <td>-0.006211</td>\n",
       "      <td>0.094760</td>\n",
       "      <td>0.657080</td>\n",
       "      <td>0.078810</td>\n",
       "    </tr>\n",
       "    <tr>\n",
       "      <th>children</th>\n",
       "      <td>0.041536</td>\n",
       "      <td>-0.017848</td>\n",
       "      <td>0.012755</td>\n",
       "      <td>1.000000</td>\n",
       "      <td>0.007331</td>\n",
       "      <td>0.067389</td>\n",
       "      <td>-0.023202</td>\n",
       "      <td>0.026044</td>\n",
       "      <td>-0.023492</td>\n",
       "      <td>0.021538</td>\n",
       "      <td>0.068831</td>\n",
       "      <td>-0.010499</td>\n",
       "      <td>-0.097862</td>\n",
       "    </tr>\n",
       "    <tr>\n",
       "      <th>smoker</th>\n",
       "      <td>-0.025587</td>\n",
       "      <td>-0.076596</td>\n",
       "      <td>0.003746</td>\n",
       "      <td>0.007331</td>\n",
       "      <td>1.000000</td>\n",
       "      <td>0.787234</td>\n",
       "      <td>0.002597</td>\n",
       "      <td>-0.036321</td>\n",
       "      <td>0.068282</td>\n",
       "      <td>-0.037168</td>\n",
       "      <td>-0.014319</td>\n",
       "      <td>-0.022945</td>\n",
       "      <td>0.024652</td>\n",
       "    </tr>\n",
       "    <tr>\n",
       "      <th>charges</th>\n",
       "      <td>0.298308</td>\n",
       "      <td>-0.058044</td>\n",
       "      <td>0.198401</td>\n",
       "      <td>0.067389</td>\n",
       "      <td>0.787234</td>\n",
       "      <td>1.000000</td>\n",
       "      <td>0.005945</td>\n",
       "      <td>-0.038695</td>\n",
       "      <td>0.073578</td>\n",
       "      <td>-0.043637</td>\n",
       "      <td>0.279095</td>\n",
       "      <td>0.117260</td>\n",
       "      <td>0.173769</td>\n",
       "    </tr>\n",
       "    <tr>\n",
       "      <th>region_northeast</th>\n",
       "      <td>0.001868</td>\n",
       "      <td>0.002008</td>\n",
       "      <td>-0.138178</td>\n",
       "      <td>-0.023202</td>\n",
       "      <td>0.002597</td>\n",
       "      <td>0.005945</td>\n",
       "      <td>1.000000</td>\n",
       "      <td>-0.319842</td>\n",
       "      <td>-0.345909</td>\n",
       "      <td>-0.320493</td>\n",
       "      <td>-0.024529</td>\n",
       "      <td>-0.106608</td>\n",
       "      <td>-0.007294</td>\n",
       "    </tr>\n",
       "    <tr>\n",
       "      <th>region_northwest</th>\n",
       "      <td>0.001495</td>\n",
       "      <td>0.012482</td>\n",
       "      <td>-0.136138</td>\n",
       "      <td>0.026044</td>\n",
       "      <td>-0.036321</td>\n",
       "      <td>-0.038695</td>\n",
       "      <td>-0.319842</td>\n",
       "      <td>1.000000</td>\n",
       "      <td>-0.345909</td>\n",
       "      <td>-0.320493</td>\n",
       "      <td>0.029633</td>\n",
       "      <td>-0.047954</td>\n",
       "      <td>0.006568</td>\n",
       "    </tr>\n",
       "    <tr>\n",
       "      <th>region_southeast</th>\n",
       "      <td>-0.012311</td>\n",
       "      <td>-0.017578</td>\n",
       "      <td>0.270057</td>\n",
       "      <td>-0.023492</td>\n",
       "      <td>0.068282</td>\n",
       "      <td>0.073578</td>\n",
       "      <td>-0.345909</td>\n",
       "      <td>-0.345909</td>\n",
       "      <td>1.000000</td>\n",
       "      <td>-0.346614</td>\n",
       "      <td>-0.038372</td>\n",
       "      <td>0.111632</td>\n",
       "      <td>0.001502</td>\n",
       "    </tr>\n",
       "    <tr>\n",
       "      <th>region_southwest</th>\n",
       "      <td>0.009415</td>\n",
       "      <td>0.003767</td>\n",
       "      <td>-0.006211</td>\n",
       "      <td>0.021538</td>\n",
       "      <td>-0.037168</td>\n",
       "      <td>-0.043637</td>\n",
       "      <td>-0.320493</td>\n",
       "      <td>-0.320493</td>\n",
       "      <td>-0.346614</td>\n",
       "      <td>1.000000</td>\n",
       "      <td>0.034720</td>\n",
       "      <td>0.038559</td>\n",
       "      <td>-0.000834</td>\n",
       "    </tr>\n",
       "    <tr>\n",
       "      <th>age_buckets</th>\n",
       "      <td>0.929639</td>\n",
       "      <td>0.019426</td>\n",
       "      <td>0.094760</td>\n",
       "      <td>0.068831</td>\n",
       "      <td>-0.014319</td>\n",
       "      <td>0.279095</td>\n",
       "      <td>-0.024529</td>\n",
       "      <td>0.029633</td>\n",
       "      <td>-0.038372</td>\n",
       "      <td>0.034720</td>\n",
       "      <td>1.000000</td>\n",
       "      <td>0.083514</td>\n",
       "      <td>0.513670</td>\n",
       "    </tr>\n",
       "    <tr>\n",
       "      <th>weight</th>\n",
       "      <td>0.096043</td>\n",
       "      <td>-0.029740</td>\n",
       "      <td>0.657080</td>\n",
       "      <td>-0.010499</td>\n",
       "      <td>-0.022945</td>\n",
       "      <td>0.117260</td>\n",
       "      <td>-0.106608</td>\n",
       "      <td>-0.047954</td>\n",
       "      <td>0.111632</td>\n",
       "      <td>0.038559</td>\n",
       "      <td>0.083514</td>\n",
       "      <td>1.000000</td>\n",
       "      <td>0.051243</td>\n",
       "    </tr>\n",
       "    <tr>\n",
       "      <th>risky</th>\n",
       "      <td>0.447774</td>\n",
       "      <td>0.011537</td>\n",
       "      <td>0.078810</td>\n",
       "      <td>-0.097862</td>\n",
       "      <td>0.024652</td>\n",
       "      <td>0.173769</td>\n",
       "      <td>-0.007294</td>\n",
       "      <td>0.006568</td>\n",
       "      <td>0.001502</td>\n",
       "      <td>-0.000834</td>\n",
       "      <td>0.513670</td>\n",
       "      <td>0.051243</td>\n",
       "      <td>1.000000</td>\n",
       "    </tr>\n",
       "  </tbody>\n",
       "</table>\n",
       "</div>"
      ],
      "text/plain": [
       "                       age    gender       bmi  children    smoker   charges  \\\n",
       "age               1.000000  0.019814  0.109344  0.041536 -0.025587  0.298308   \n",
       "gender            0.019814  1.000000 -0.046397 -0.017848 -0.076596 -0.058044   \n",
       "bmi               0.109344 -0.046397  1.000000  0.012755  0.003746  0.198401   \n",
       "children          0.041536 -0.017848  0.012755  1.000000  0.007331  0.067389   \n",
       "smoker           -0.025587 -0.076596  0.003746  0.007331  1.000000  0.787234   \n",
       "charges           0.298308 -0.058044  0.198401  0.067389  0.787234  1.000000   \n",
       "region_northeast  0.001868  0.002008 -0.138178 -0.023202  0.002597  0.005945   \n",
       "region_northwest  0.001495  0.012482 -0.136138  0.026044 -0.036321 -0.038695   \n",
       "region_southeast -0.012311 -0.017578  0.270057 -0.023492  0.068282  0.073578   \n",
       "region_southwest  0.009415  0.003767 -0.006211  0.021538 -0.037168 -0.043637   \n",
       "age_buckets       0.929639  0.019426  0.094760  0.068831 -0.014319  0.279095   \n",
       "weight            0.096043 -0.029740  0.657080 -0.010499 -0.022945  0.117260   \n",
       "risky             0.447774  0.011537  0.078810 -0.097862  0.024652  0.173769   \n",
       "\n",
       "                  region_northeast  region_northwest  region_southeast  \\\n",
       "age                       0.001868          0.001495         -0.012311   \n",
       "gender                    0.002008          0.012482         -0.017578   \n",
       "bmi                      -0.138178         -0.136138          0.270057   \n",
       "children                 -0.023202          0.026044         -0.023492   \n",
       "smoker                    0.002597         -0.036321          0.068282   \n",
       "charges                   0.005945         -0.038695          0.073578   \n",
       "region_northeast          1.000000         -0.319842         -0.345909   \n",
       "region_northwest         -0.319842          1.000000         -0.345909   \n",
       "region_southeast         -0.345909         -0.345909          1.000000   \n",
       "region_southwest         -0.320493         -0.320493         -0.346614   \n",
       "age_buckets              -0.024529          0.029633         -0.038372   \n",
       "weight                   -0.106608         -0.047954          0.111632   \n",
       "risky                    -0.007294          0.006568          0.001502   \n",
       "\n",
       "                  region_southwest  age_buckets    weight     risky  \n",
       "age                       0.009415     0.929639  0.096043  0.447774  \n",
       "gender                    0.003767     0.019426 -0.029740  0.011537  \n",
       "bmi                      -0.006211     0.094760  0.657080  0.078810  \n",
       "children                  0.021538     0.068831 -0.010499 -0.097862  \n",
       "smoker                   -0.037168    -0.014319 -0.022945  0.024652  \n",
       "charges                  -0.043637     0.279095  0.117260  0.173769  \n",
       "region_northeast         -0.320493    -0.024529 -0.106608 -0.007294  \n",
       "region_northwest         -0.320493     0.029633 -0.047954  0.006568  \n",
       "region_southeast         -0.346614    -0.038372  0.111632  0.001502  \n",
       "region_southwest          1.000000     0.034720  0.038559 -0.000834  \n",
       "age_buckets               0.034720     1.000000  0.083514  0.513670  \n",
       "weight                    0.038559     0.083514  1.000000  0.051243  \n",
       "risky                    -0.000834     0.513670  0.051243  1.000000  "
      ]
     },
     "execution_count": 87,
     "metadata": {},
     "output_type": "execute_result"
    }
   ],
   "source": [
    "df1.corr()"
   ]
  },
  {
   "cell_type": "code",
   "execution_count": 89,
   "id": "9068d200-0673-4981-b1f8-d4c288a7838b",
   "metadata": {},
   "outputs": [
    {
     "name": "stdout",
     "output_type": "stream",
     "text": [
      "<class 'pandas.core.frame.DataFrame'>\n",
      "Index: 1337 entries, 0 to 1337\n",
      "Data columns (total 13 columns):\n",
      " #   Column            Non-Null Count  Dtype   \n",
      "---  ------            --------------  -----   \n",
      " 0   age               1337 non-null   int64   \n",
      " 1   gender            1337 non-null   int64   \n",
      " 2   bmi               1337 non-null   float64 \n",
      " 3   children          1337 non-null   int64   \n",
      " 4   smoker            1337 non-null   int64   \n",
      " 5   charges           1337 non-null   float64 \n",
      " 6   region_northeast  1337 non-null   int32   \n",
      " 7   region_northwest  1337 non-null   int32   \n",
      " 8   region_southeast  1337 non-null   int32   \n",
      " 9   region_southwest  1337 non-null   int32   \n",
      " 10  age_buckets       1337 non-null   category\n",
      " 11  weight            1337 non-null   int32   \n",
      " 12  risky             1337 non-null   int32   \n",
      "dtypes: category(1), float64(2), int32(6), int64(4)\n",
      "memory usage: 106.0 KB\n"
     ]
    }
   ],
   "source": [
    "df1.info()"
   ]
  },
  {
   "cell_type": "code",
   "execution_count": 91,
   "id": "7e31675d-743c-4d74-8885-d57febeb10e8",
   "metadata": {},
   "outputs": [
    {
     "name": "stdout",
     "output_type": "stream",
     "text": [
      "<class 'pandas.core.frame.DataFrame'>\n",
      "Index: 1337 entries, 0 to 1337\n",
      "Data columns (total 13 columns):\n",
      " #   Column            Non-Null Count  Dtype  \n",
      "---  ------            --------------  -----  \n",
      " 0   age               1337 non-null   int64  \n",
      " 1   gender            1337 non-null   int64  \n",
      " 2   bmi               1337 non-null   float64\n",
      " 3   children          1337 non-null   int64  \n",
      " 4   smoker            1337 non-null   int64  \n",
      " 5   charges           1337 non-null   float64\n",
      " 6   region_northeast  1337 non-null   int32  \n",
      " 7   region_northwest  1337 non-null   int32  \n",
      " 8   region_southeast  1337 non-null   int32  \n",
      " 9   region_southwest  1337 non-null   int32  \n",
      " 10  age_buckets       1337 non-null   int32  \n",
      " 11  weight            1337 non-null   int32  \n",
      " 12  risky             1337 non-null   int32  \n",
      "dtypes: float64(2), int32(7), int64(4)\n",
      "memory usage: 109.7 KB\n"
     ]
    }
   ],
   "source": [
    "df1['age_buckets']=df1['age_buckets'].astype(int)\n",
    "df1.info()"
   ]
  },
  {
   "cell_type": "code",
   "execution_count": 93,
   "id": "a336dfd6-684e-4afc-a94c-c86b3f61b1bc",
   "metadata": {},
   "outputs": [
    {
     "data": {
      "text/plain": [
       "[8.085642088156062,\n",
       " 1.0091075715643296,\n",
       " 2.0303045118269623,\n",
       " 1.049240331154307,\n",
       " 3.5574205533842926,\n",
       " 4.022258776235202,\n",
       " 11.097091255544532,\n",
       " 10.941753364767626,\n",
       " 14.656919207469121,\n",
       " 11.669796251449984,\n",
       " 8.361601540598459,\n",
       " 1.784645664531676,\n",
       " 1.4158848553314523]"
      ]
     },
     "execution_count": 93,
     "metadata": {},
     "output_type": "execute_result"
    }
   ],
   "source": [
    "vif_list=[]\n",
    "for i in range (df1.shape[1]):\n",
    "    vif=variance_inflation_factor(df1.to_numpy(),i)\n",
    "    vif_list.append(vif)\n",
    "vif_list    "
   ]
  },
  {
   "cell_type": "code",
   "execution_count": 94,
   "id": "eb4759d8-d1a8-47ca-8c3b-e88035b41088",
   "metadata": {},
   "outputs": [
    {
     "data": {
      "text/plain": [
       "age                  8.085642\n",
       "gender               1.009108\n",
       "bmi                  2.030305\n",
       "children             1.049240\n",
       "smoker               3.557421\n",
       "charges              4.022259\n",
       "region_northeast    11.097091\n",
       "region_northwest    10.941753\n",
       "region_southeast    14.656919\n",
       "region_southwest    11.669796\n",
       "age_buckets          8.361602\n",
       "weight               1.784646\n",
       "risky                1.415885\n",
       "dtype: float64"
      ]
     },
     "execution_count": 94,
     "metadata": {},
     "output_type": "execute_result"
    }
   ],
   "source": [
    "s1=pd.Series(vif_list,index=df1.columns)\n",
    "s1"
   ]
  },
  {
   "cell_type": "code",
   "execution_count": 95,
   "id": "4fc87d9b-1291-4f73-b269-0741a32bd630",
   "metadata": {},
   "outputs": [
    {
     "data": {
      "text/html": [
       "<div>\n",
       "<style scoped>\n",
       "    .dataframe tbody tr th:only-of-type {\n",
       "        vertical-align: middle;\n",
       "    }\n",
       "\n",
       "    .dataframe tbody tr th {\n",
       "        vertical-align: top;\n",
       "    }\n",
       "\n",
       "    .dataframe thead th {\n",
       "        text-align: right;\n",
       "    }\n",
       "</style>\n",
       "<table border=\"1\" class=\"dataframe\">\n",
       "  <thead>\n",
       "    <tr style=\"text-align: right;\">\n",
       "      <th></th>\n",
       "      <th>gender</th>\n",
       "      <th>bmi</th>\n",
       "      <th>children</th>\n",
       "      <th>smoker</th>\n",
       "      <th>charges</th>\n",
       "      <th>region_northeast</th>\n",
       "      <th>region_northwest</th>\n",
       "      <th>region_southeast</th>\n",
       "      <th>region_southwest</th>\n",
       "      <th>age_buckets</th>\n",
       "      <th>weight</th>\n",
       "      <th>risky</th>\n",
       "    </tr>\n",
       "  </thead>\n",
       "  <tbody>\n",
       "    <tr>\n",
       "      <th>0</th>\n",
       "      <td>1</td>\n",
       "      <td>27.9</td>\n",
       "      <td>0</td>\n",
       "      <td>1</td>\n",
       "      <td>16884.924</td>\n",
       "      <td>0</td>\n",
       "      <td>0</td>\n",
       "      <td>0</td>\n",
       "      <td>1</td>\n",
       "      <td>1</td>\n",
       "      <td>1</td>\n",
       "      <td>0</td>\n",
       "    </tr>\n",
       "  </tbody>\n",
       "</table>\n",
       "</div>"
      ],
      "text/plain": [
       "   gender   bmi  children  smoker    charges  region_northeast  \\\n",
       "0       1  27.9         0       1  16884.924                 0   \n",
       "\n",
       "   region_northwest  region_southeast  region_southwest  age_buckets  weight  \\\n",
       "0                 0                 0                 1            1       1   \n",
       "\n",
       "   risky  \n",
       "0      0  "
      ]
     },
     "execution_count": 95,
     "metadata": {},
     "output_type": "execute_result"
    }
   ],
   "source": [
    "df1.drop('age',axis=1,inplace=True)\n",
    "df1.head(1)"
   ]
  },
  {
   "cell_type": "code",
   "execution_count": 97,
   "id": "0d8f4118-a2cd-4d79-b9d5-b0dd47babf3c",
   "metadata": {},
   "outputs": [
    {
     "data": {
      "text/plain": [
       "gender               1.009103\n",
       "bmi                  2.027881\n",
       "children             1.039729\n",
       "smoker               3.380272\n",
       "charges              3.785201\n",
       "region_northeast     9.861370\n",
       "region_northwest     9.945902\n",
       "region_southeast    13.267278\n",
       "region_southwest    10.646089\n",
       "age_buckets          1.671450\n",
       "weight               1.783900\n",
       "risky                1.397359\n",
       "dtype: float64"
      ]
     },
     "execution_count": 97,
     "metadata": {},
     "output_type": "execute_result"
    }
   ],
   "source": [
    "vif_list=[]\n",
    "for i in range (df1.shape[1]):\n",
    "    vif=variance_inflation_factor(df1.to_numpy(),i)\n",
    "    vif_list.append(vif)\n",
    "vif_list \n",
    "s1=pd.Series(vif_list,index=df1.columns)\n",
    "s1"
   ]
  },
  {
   "cell_type": "code",
   "execution_count": 99,
   "id": "137a201e-33ba-4b7c-844e-a94cb683158e",
   "metadata": {},
   "outputs": [
    {
     "data": {
      "text/plain": [
       "((1337, 11), (1337,))"
      ]
     },
     "execution_count": 99,
     "metadata": {},
     "output_type": "execute_result"
    }
   ],
   "source": [
    "x=df1.drop(['charges'],axis=1)\n",
    "y=df1['charges']\n",
    "x.shape,y.shape"
   ]
  },
  {
   "cell_type": "code",
   "execution_count": 101,
   "id": "50658673-8cdb-4906-9091-1c99d3bbe044",
   "metadata": {},
   "outputs": [
    {
     "data": {
      "text/plain": [
       "((1069, 11), (268, 11))"
      ]
     },
     "execution_count": 101,
     "metadata": {},
     "output_type": "execute_result"
    }
   ],
   "source": [
    "x_train,x_test,y_train,y_test=train_test_split(x,y,random_state=40,test_size=0.2)\n",
    "x_train.shape,x_test.shape"
   ]
  },
  {
   "cell_type": "code",
   "execution_count": 102,
   "id": "151105f8-d4e5-497d-98ef-219b5ee62772",
   "metadata": {},
   "outputs": [
    {
     "data": {
      "text/html": [
       "<style>#sk-container-id-1 {color: black;background-color: white;}#sk-container-id-1 pre{padding: 0;}#sk-container-id-1 div.sk-toggleable {background-color: white;}#sk-container-id-1 label.sk-toggleable__label {cursor: pointer;display: block;width: 100%;margin-bottom: 0;padding: 0.3em;box-sizing: border-box;text-align: center;}#sk-container-id-1 label.sk-toggleable__label-arrow:before {content: \"▸\";float: left;margin-right: 0.25em;color: #696969;}#sk-container-id-1 label.sk-toggleable__label-arrow:hover:before {color: black;}#sk-container-id-1 div.sk-estimator:hover label.sk-toggleable__label-arrow:before {color: black;}#sk-container-id-1 div.sk-toggleable__content {max-height: 0;max-width: 0;overflow: hidden;text-align: left;background-color: #f0f8ff;}#sk-container-id-1 div.sk-toggleable__content pre {margin: 0.2em;color: black;border-radius: 0.25em;background-color: #f0f8ff;}#sk-container-id-1 input.sk-toggleable__control:checked~div.sk-toggleable__content {max-height: 200px;max-width: 100%;overflow: auto;}#sk-container-id-1 input.sk-toggleable__control:checked~label.sk-toggleable__label-arrow:before {content: \"▾\";}#sk-container-id-1 div.sk-estimator input.sk-toggleable__control:checked~label.sk-toggleable__label {background-color: #d4ebff;}#sk-container-id-1 div.sk-label input.sk-toggleable__control:checked~label.sk-toggleable__label {background-color: #d4ebff;}#sk-container-id-1 input.sk-hidden--visually {border: 0;clip: rect(1px 1px 1px 1px);clip: rect(1px, 1px, 1px, 1px);height: 1px;margin: -1px;overflow: hidden;padding: 0;position: absolute;width: 1px;}#sk-container-id-1 div.sk-estimator {font-family: monospace;background-color: #f0f8ff;border: 1px dotted black;border-radius: 0.25em;box-sizing: border-box;margin-bottom: 0.5em;}#sk-container-id-1 div.sk-estimator:hover {background-color: #d4ebff;}#sk-container-id-1 div.sk-parallel-item::after {content: \"\";width: 100%;border-bottom: 1px solid gray;flex-grow: 1;}#sk-container-id-1 div.sk-label:hover label.sk-toggleable__label {background-color: #d4ebff;}#sk-container-id-1 div.sk-serial::before {content: \"\";position: absolute;border-left: 1px solid gray;box-sizing: border-box;top: 0;bottom: 0;left: 50%;z-index: 0;}#sk-container-id-1 div.sk-serial {display: flex;flex-direction: column;align-items: center;background-color: white;padding-right: 0.2em;padding-left: 0.2em;position: relative;}#sk-container-id-1 div.sk-item {position: relative;z-index: 1;}#sk-container-id-1 div.sk-parallel {display: flex;align-items: stretch;justify-content: center;background-color: white;position: relative;}#sk-container-id-1 div.sk-item::before, #sk-container-id-1 div.sk-parallel-item::before {content: \"\";position: absolute;border-left: 1px solid gray;box-sizing: border-box;top: 0;bottom: 0;left: 50%;z-index: -1;}#sk-container-id-1 div.sk-parallel-item {display: flex;flex-direction: column;z-index: 1;position: relative;background-color: white;}#sk-container-id-1 div.sk-parallel-item:first-child::after {align-self: flex-end;width: 50%;}#sk-container-id-1 div.sk-parallel-item:last-child::after {align-self: flex-start;width: 50%;}#sk-container-id-1 div.sk-parallel-item:only-child::after {width: 0;}#sk-container-id-1 div.sk-dashed-wrapped {border: 1px dashed gray;margin: 0 0.4em 0.5em 0.4em;box-sizing: border-box;padding-bottom: 0.4em;background-color: white;}#sk-container-id-1 div.sk-label label {font-family: monospace;font-weight: bold;display: inline-block;line-height: 1.2em;}#sk-container-id-1 div.sk-label-container {text-align: center;}#sk-container-id-1 div.sk-container {/* jupyter's `normalize.less` sets `[hidden] { display: none; }` but bootstrap.min.css set `[hidden] { display: none !important; }` so we also need the `!important` here to be able to override the default hidden behavior on the sphinx rendered scikit-learn.org. See: https://github.com/scikit-learn/scikit-learn/issues/21755 */display: inline-block !important;position: relative;}#sk-container-id-1 div.sk-text-repr-fallback {display: none;}</style><div id=\"sk-container-id-1\" class=\"sk-top-container\"><div class=\"sk-text-repr-fallback\"><pre>KNeighborsRegressor()</pre><b>In a Jupyter environment, please rerun this cell to show the HTML representation or trust the notebook. <br />On GitHub, the HTML representation is unable to render, please try loading this page with nbviewer.org.</b></div><div class=\"sk-container\" hidden><div class=\"sk-item\"><div class=\"sk-estimator sk-toggleable\"><input class=\"sk-toggleable__control sk-hidden--visually\" id=\"sk-estimator-id-1\" type=\"checkbox\" checked><label for=\"sk-estimator-id-1\" class=\"sk-toggleable__label sk-toggleable__label-arrow\">KNeighborsRegressor</label><div class=\"sk-toggleable__content\"><pre>KNeighborsRegressor()</pre></div></div></div></div></div>"
      ],
      "text/plain": [
       "KNeighborsRegressor()"
      ]
     },
     "execution_count": 102,
     "metadata": {},
     "output_type": "execute_result"
    }
   ],
   "source": [
    "KR=KNeighborsRegressor()\n",
    "KR.fit(x_train,y_train)"
   ]
  },
  {
   "cell_type": "code",
   "execution_count": 103,
   "id": "3c713d17-b7c2-4c9e-bf95-685cb377c374",
   "metadata": {},
   "outputs": [
    {
     "name": "stdout",
     "output_type": "stream",
     "text": [
      "r2 score  0.5695569931010696\n",
      "mse  61616021.743370436\n",
      "mae  5259.136534711505\n",
      "\n",
      "r2 score  0.4525063926437042\n",
      "mse  87650176.94050363\n",
      "mae  6096.918752155971\n"
     ]
    }
   ],
   "source": [
    "#traning\n",
    "y_pred=KR.predict(x_train)\n",
    "r2=r2_score(y_train,y_pred)\n",
    "print('r2 score ', r2)\n",
    "mse=mean_squared_error(y_train,y_pred)\n",
    "print('mse ', mse)\n",
    "mae=mean_absolute_error(y_train,y_pred)\n",
    "print('mae ',mae)\n",
    "\n",
    "#testing\n",
    "print()\n",
    "y_pred=KR.predict(x_test)\n",
    "r2=r2_score(y_test,y_pred)\n",
    "print('r2 score ', r2)\n",
    "mse=mean_squared_error(y_test,y_pred)\n",
    "print('mse ', mse)\n",
    "mae=mean_absolute_error(y_test,y_pred)\n",
    "print('mae ',mae)"
   ]
  },
  {
   "cell_type": "code",
   "execution_count": 107,
   "id": "c654184b-6650-419f-8849-5d39b146d3be",
   "metadata": {},
   "outputs": [
    {
     "data": {
      "text/html": [
       "<div>\n",
       "<style scoped>\n",
       "    .dataframe tbody tr th:only-of-type {\n",
       "        vertical-align: middle;\n",
       "    }\n",
       "\n",
       "    .dataframe tbody tr th {\n",
       "        vertical-align: top;\n",
       "    }\n",
       "\n",
       "    .dataframe thead th {\n",
       "        text-align: right;\n",
       "    }\n",
       "</style>\n",
       "<table border=\"1\" class=\"dataframe\">\n",
       "  <thead>\n",
       "    <tr style=\"text-align: right;\">\n",
       "      <th></th>\n",
       "      <th>gender</th>\n",
       "      <th>bmi</th>\n",
       "      <th>children</th>\n",
       "      <th>smoker</th>\n",
       "      <th>region_northeast</th>\n",
       "      <th>region_northwest</th>\n",
       "      <th>region_southeast</th>\n",
       "      <th>region_southwest</th>\n",
       "      <th>age_buckets</th>\n",
       "      <th>weight</th>\n",
       "      <th>risky</th>\n",
       "    </tr>\n",
       "  </thead>\n",
       "  <tbody>\n",
       "    <tr>\n",
       "      <th>0</th>\n",
       "      <td>-0.984222</td>\n",
       "      <td>-1.165122</td>\n",
       "      <td>0.743389</td>\n",
       "      <td>-0.510503</td>\n",
       "      <td>-0.569789</td>\n",
       "      <td>-0.566908</td>\n",
       "      <td>-0.601484</td>\n",
       "      <td>1.750611</td>\n",
       "      <td>-0.182117</td>\n",
       "      <td>-2.150887</td>\n",
       "      <td>-0.272712</td>\n",
       "    </tr>\n",
       "  </tbody>\n",
       "</table>\n",
       "</div>"
      ],
      "text/plain": [
       "     gender       bmi  children    smoker  region_northeast  region_northwest  \\\n",
       "0 -0.984222 -1.165122  0.743389 -0.510503         -0.569789         -0.566908   \n",
       "\n",
       "   region_southeast  region_southwest  age_buckets    weight     risky  \n",
       "0         -0.601484          1.750611    -0.182117 -2.150887 -0.272712  "
      ]
     },
     "execution_count": 107,
     "metadata": {},
     "output_type": "execute_result"
    }
   ],
   "source": [
    "#scaling\n",
    "scale_KR=StandardScaler()\n",
    "scale_KR.fit(x_train)\n",
    "array=scale_KR.transform(x_train)\n",
    "scale_df=pd.DataFrame(array,columns=x_train.columns)\n",
    "scale_df.head(1)"
   ]
  },
  {
   "cell_type": "code",
   "execution_count": 110,
   "id": "b9f9ab2d-535d-4c48-9d01-5b534e1ca2b0",
   "metadata": {},
   "outputs": [
    {
     "name": "stdout",
     "output_type": "stream",
     "text": [
      "r2 score  0.837846691119936\n",
      "mse  23211532.41097831\n",
      "mae  3083.196680146679\n",
      "\n",
      "r2 score  0.8238999560599463\n",
      "mse  28192475.315115992\n",
      "mae  3432.671840535821\n"
     ]
    }
   ],
   "source": [
    "#using scaling\n",
    "KR=KNeighborsRegressor()\n",
    "KR.fit(scale_df,y_train)\n",
    "#traning\n",
    "y_pred=KR.predict(scale_df)\n",
    "r2=r2_score(y_train,y_pred)\n",
    "print('r2 score ', r2)\n",
    "mse=mean_squared_error(y_train,y_pred)\n",
    "print('mse ', mse)\n",
    "mae=mean_absolute_error(y_train,y_pred)\n",
    "print('mae ',mae)\n",
    "\n",
    "#testing\n",
    "print()\n",
    "array=scale_KR.transform(x_test)\n",
    "scale_df_test=pd.DataFrame(array,columns=x_test.columns)\n",
    "y_pred=KR.predict(scale_df_test)\n",
    "r2=r2_score(y_test,y_pred)\n",
    "print('r2 score ', r2)\n",
    "mse=mean_squared_error(y_test,y_pred)\n",
    "print('mse ', mse)\n",
    "mae=mean_absolute_error(y_test,y_pred)\n",
    "print('mae ',mae)"
   ]
  },
  {
   "cell_type": "code",
   "execution_count": 111,
   "id": "8f89c4f9-deb7-4bca-a853-98e1033d20c3",
   "metadata": {},
   "outputs": [],
   "source": [
    "#will find best k val for p=1\n",
    "r2_score_train_list=[]\n",
    "r2_score_test_list=[]\n",
    "k_val=range(3,21)\n",
    "for k in k_val:\n",
    "    KR=KNeighborsRegressor(n_neighbors=k,p=1)\n",
    "    KR.fit(scale_df,y_train)\n",
    "    r2_score_train=KR.score(scale_df,y_train)\n",
    "    r2_score_train_list.append(r2_score_train)\n",
    "    #testing\n",
    "    r2_score_test=KR.score(scale_df_test,y_test)\n",
    "    r2_score_test_list.append(r2_score_test)"
   ]
  },
  {
   "cell_type": "code",
   "execution_count": 113,
   "id": "98d3f13a-385d-4a5a-9c7d-fca66fce8920",
   "metadata": {},
   "outputs": [
    {
     "data": {
      "text/plain": [
       "Text(0.5, 1.0, 'Comparision between train and test accuracies')"
      ]
     },
     "execution_count": 113,
     "metadata": {},
     "output_type": "execute_result"
    },
    {
     "data": {
      "image/png": "[encoded data removed]",
      "text/plain": [
       "<Figure size 640x480 with 1 Axes>"
      ]
     },
     "metadata": {},
     "output_type": "display_data"
    }
   ],
   "source": [
    "plt.plot(k_val,r2_score_train_list)\n",
    "plt.plot(k_val,r2_score_test_list)\n",
    "plt.xlabel(\"K Values\")\n",
    "plt.ylabel(\"Accuracy on both side\")\n",
    "plt.title(\"Comparision between train and test accuracies\")"
   ]
  },
  {
   "cell_type": "code",
   "execution_count": 114,
   "id": "5d5a64b9-c951-4761-8dbb-57295df38e68",
   "metadata": {},
   "outputs": [],
   "source": [
    "#will find best k val for p=2\n",
    "r2_score_train_list=[]\n",
    "r2_score_test_list=[]\n",
    "k_val=range(3,21)\n",
    "for k in k_val:\n",
    "    KR=KNeighborsRegressor(n_neighbors=k,p=2)\n",
    "    KR.fit(scale_df,y_train)\n",
    "    r2_score_train=KR.score(scale_df,y_train)\n",
    "    r2_score_train_list.append(r2_score_train)\n",
    "    #testing\n",
    "    r2_score_test=KR.score(scale_df_test,y_test)\n",
    "    r2_score_test_list.append(r2_score_test)"
   ]
  },
  {
   "cell_type": "code",
   "execution_count": 115,
   "id": "2acfc5a4-06b5-4957-a747-f5ed6ad0cdfc",
   "metadata": {},
   "outputs": [
    {
     "data": {
      "text/plain": [
       "Text(0.5, 1.0, 'Comparision between train and test accuracies')"
      ]
     },
     "execution_count": 115,
     "metadata": {},
     "output_type": "execute_result"
    },
    {
     "data": {
      "image/png": "[encoded data removed]",
      "text/plain": [
       "<Figure size 640x480 with 1 Axes>"
      ]
     },
     "metadata": {},
     "output_type": "display_data"
    }
   ],
   "source": [
    "plt.plot(k_val,r2_score_train_list)\n",
    "plt.plot(k_val,r2_score_test_list)\n",
    "plt.xlabel(\"K Values\")\n",
    "plt.ylabel(\"Accuracy on both side\")\n",
    "plt.title(\"Comparision between train and test accuracies\")"
   ]
  },
  {
   "cell_type": "code",
   "execution_count": 116,
   "id": "f4942714-07f0-4b86-ae98-4231ab005be1",
   "metadata": {},
   "outputs": [
    {
     "name": "stdout",
     "output_type": "stream",
     "text": [
      "r2 score  0.8126032609514401\n",
      "mse  26825018.324816175\n",
      "mae  3306.659259173838\n",
      "\n",
      "r2 score  0.8133845422088942\n",
      "mse  29875924.89747344\n",
      "mae  3477.2797729465174\n"
     ]
    }
   ],
   "source": [
    "#evalaution with hyperparameter tuning p=1\n",
    "#using scaling\n",
    "KR=KNeighborsRegressor(n_neighbors=6,p=1)\n",
    "KR.fit(scale_df,y_train)\n",
    "#traning\n",
    "y_pred=KR.predict(scale_df)\n",
    "r2=r2_score(y_train,y_pred)\n",
    "print('r2 score ', r2)\n",
    "mse=mean_squared_error(y_train,y_pred)\n",
    "print('mse ', mse)\n",
    "mae=mean_absolute_error(y_train,y_pred)\n",
    "print('mae ',mae)\n",
    "\n",
    "#transforming\n",
    "print()\n",
    "array=scale_KR.transform(x_test)\n",
    "scale_df_test=pd.DataFrame(array,columns=x_test.columns)\n",
    "#TESTING\n",
    "y_pred=KR.predict(scale_df_test)\n",
    "r2=r2_score(y_test,y_pred)\n",
    "print('r2 score ', r2)\n",
    "mse=mean_squared_error(y_test,y_pred)\n",
    "print('mse ', mse)\n",
    "mae=mean_absolute_error(y_test,y_pred)\n",
    "print('mae ',mae)"
   ]
  },
  {
   "cell_type": "code",
   "execution_count": 117,
   "id": "3a194c74-40f1-49b1-bf3e-3cc773707222",
   "metadata": {},
   "outputs": [
    {
     "name": "stdout",
     "output_type": "stream",
     "text": [
      "r2 score  0.8203145842367913\n",
      "mse  25721176.339686833\n",
      "mae  3271.3913370487994\n",
      "\n",
      "r2 score  0.8260546552047154\n",
      "mse  27847521.951725088\n",
      "mae  3488.178971584577\n"
     ]
    }
   ],
   "source": [
    "#evalaution with hyperparameter tuning p=2\n",
    "#using scaling\n",
    "KR=KNeighborsRegressor(n_neighbors=6,p=2)\n",
    "KR.fit(scale_df,y_train)\n",
    "#traning\n",
    "y_pred=KR.predict(scale_df)\n",
    "r2=r2_score(y_train,y_pred)\n",
    "print('r2 score ', r2)\n",
    "mse=mean_squared_error(y_train,y_pred)\n",
    "print('mse ', mse)\n",
    "mae=mean_absolute_error(y_train,y_pred)\n",
    "print('mae ',mae)\n",
    "\n",
    "#transforming\n",
    "print()\n",
    "array=scale_KR.transform(x_test)\n",
    "scale_df_test=pd.DataFrame(array,columns=x_test.columns)\n",
    "#TESTING\n",
    "y_pred=KR.predict(scale_df_test)\n",
    "r2=r2_score(y_test,y_pred)\n",
    "print('r2 score ', r2)\n",
    "mse=mean_squared_error(y_test,y_pred)\n",
    "print('mse ', mse)\n",
    "mae=mean_absolute_error(y_test,y_pred)\n",
    "print('mae ',mae)"
   ]
  },
  {
   "cell_type": "code",
   "execution_count": 118,
   "id": "730c6c9a-9a22-4089-9218-32862ebcc1ea",
   "metadata": {},
   "outputs": [],
   "source": [
    "with open('KR_model.pkl','wb') as file:\n",
    "    pickle.dump(KR,file)"
   ]
  },
  {
   "cell_type": "code",
   "execution_count": 119,
   "id": "9307a06c-e7a9-4005-b76a-8ff08823d0ab",
   "metadata": {},
   "outputs": [],
   "source": [
    "with open('scale_model.pkl','wb') as file:\n",
    "    pickle.dump(scale_KR,file)"
   ]
  },
  {
   "cell_type": "code",
   "execution_count": 121,
   "id": "56b1a1d5-b267-45bd-8df7-e79d05dcc210",
   "metadata": {},
   "outputs": [
    {
     "data": {
      "text/plain": [
       "{'gender': {'female': 1, 'male': 0},\n",
       " 'smoker': {'yes': 1, 'no': 0},\n",
       " 'columns': ['gender',\n",
       "  'bmi',\n",
       "  'children',\n",
       "  'smoker',\n",
       "  'region_northeast',\n",
       "  'region_northwest',\n",
       "  'region_southeast',\n",
       "  'region_southwest',\n",
       "  'age_buckets',\n",
       "  'weight',\n",
       "  'risky']}"
      ]
     },
     "execution_count": 121,
     "metadata": {},
     "output_type": "execute_result"
    }
   ],
   "source": [
    "label_encode_data = {\"gender\":{\"female\":1,\"male\":0},\n",
    "                     \"smoker\":{\"yes\":1,\"no\":0},\n",
    "                     \"columns\":list(x.columns)}\n",
    "label_encode_data"
   ]
  },
  {
   "cell_type": "code",
   "execution_count": 122,
   "id": "31e3546d-534c-404b-9238-ff0851775b52",
   "metadata": {},
   "outputs": [],
   "source": [
    "with open ('project_data.json','w') as file:\n",
    "    json.dump(label_encode_data,file)"
   ]
  },
  {
   "cell_type": "code",
   "execution_count": null,
   "id": "7fd49c89-10f5-4aed-af78-29eb3b7e5fa4",
   "metadata": {},
   "outputs": [],
   "source": []
  }
 ],
 "metadata": {
  "kernelspec": {
   "display_name": "Python 3 (ipykernel)",
   "language": "python",
   "name": "python3"
  },
  "language_info": {
   "codemirror_mode": {
    "name": "ipython",
    "version": 3
   },
   "file_extension": ".py",
   "mimetype": "text/x-python",
   "name": "python",
   "nbconvert_exporter": "python",
   "pygments_lexer": "ipython3",
   "version": "3.11.7"
  }
 },
 "nbformat": 4,
 "nbformat_minor": 5
}
